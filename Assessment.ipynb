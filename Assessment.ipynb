{
 "cells": [
  {
   "cell_type": "code",
   "execution_count": 28,
   "metadata": {},
   "outputs": [
    {
     "data": {
      "text/html": [
       "<div>\n",
       "<style scoped>\n",
       "    .dataframe tbody tr th:only-of-type {\n",
       "        vertical-align: middle;\n",
       "    }\n",
       "\n",
       "    .dataframe tbody tr th {\n",
       "        vertical-align: top;\n",
       "    }\n",
       "\n",
       "    .dataframe thead th {\n",
       "        text-align: right;\n",
       "    }\n",
       "</style>\n",
       "<table border=\"1\" class=\"dataframe\">\n",
       "  <thead>\n",
       "    <tr style=\"text-align: right;\">\n",
       "      <th></th>\n",
       "      <th>State</th>\n",
       "      <th>Inches</th>\n",
       "      <th>Milli­metres</th>\n",
       "      <th>Rank</th>\n",
       "    </tr>\n",
       "  </thead>\n",
       "  <tbody>\n",
       "    <tr>\n",
       "      <th>8</th>\n",
       "      <td>Florida</td>\n",
       "      <td>54.5</td>\n",
       "      <td>1385</td>\n",
       "      <td>5</td>\n",
       "    </tr>\n",
       "    <tr>\n",
       "      <th>0</th>\n",
       "      <td>Alabama</td>\n",
       "      <td>58.3</td>\n",
       "      <td>1480</td>\n",
       "      <td>4</td>\n",
       "    </tr>\n",
       "    <tr>\n",
       "      <th>23</th>\n",
       "      <td>Mississippi</td>\n",
       "      <td>59.0</td>\n",
       "      <td>1499</td>\n",
       "      <td>3</td>\n",
       "    </tr>\n",
       "    <tr>\n",
       "      <th>17</th>\n",
       "      <td>Louisiana</td>\n",
       "      <td>60.1</td>\n",
       "      <td>1528</td>\n",
       "      <td>2</td>\n",
       "    </tr>\n",
       "    <tr>\n",
       "      <th>10</th>\n",
       "      <td>Hawaii</td>\n",
       "      <td>63.7</td>\n",
       "      <td>1618</td>\n",
       "      <td>1</td>\n",
       "    </tr>\n",
       "  </tbody>\n",
       "</table>\n",
       "</div>"
      ],
      "text/plain": [
       "          State  Inches  Milli­metres  Rank\n",
       "8       Florida    54.5          1385     5\n",
       "0       Alabama    58.3          1480     4\n",
       "23  Mississippi    59.0          1499     3\n",
       "17    Louisiana    60.1          1528     2\n",
       "10       Hawaii    63.7          1618     1"
      ]
     },
     "execution_count": 28,
     "metadata": {},
     "output_type": "execute_result"
    }
   ],
   "source": [
    "import pandas as pd\n",
    "import scipy.stats as sts\n",
    "rain_to_read = (\"assessment/avg_rain_state.csv\")\n",
    "rain_df = pd.read_csv(rain_to_read)\n",
    "rain_df.sort_values([\"Rank\"], ascending=False).tail()\n"
   ]
  },
  {
   "cell_type": "code",
   "execution_count": 13,
   "metadata": {},
   "outputs": [
    {
     "name": "stdout",
     "output_type": "stream",
     "text": [
      "ModeResult(mode=array([['Alabama', 28.9, 1279, 9]], dtype=object), count=array([[1, 2, 2, 2]]))\n",
      "             State  Inches  Milli­metres  Rank\n",
      "0          Alabama    28.9        1279.0   9.0\n",
      "1           Alaska    42.2           NaN   NaN\n",
      "2          Arizona    50.3           NaN   NaN\n",
      "3         Arkansas     NaN           NaN   NaN\n",
      "4       California     NaN           NaN   NaN\n",
      "5         Colorado     NaN           NaN   NaN\n",
      "6      Connecticut     NaN           NaN   NaN\n",
      "7         Delaware     NaN           NaN   NaN\n",
      "8          Florida     NaN           NaN   NaN\n",
      "9          Georgia     NaN           NaN   NaN\n",
      "10          Hawaii     NaN           NaN   NaN\n",
      "11           Idaho     NaN           NaN   NaN\n",
      "12        Illinois     NaN           NaN   NaN\n",
      "13         Indiana     NaN           NaN   NaN\n",
      "14            Iowa     NaN           NaN   NaN\n",
      "15          Kansas     NaN           NaN   NaN\n",
      "16        Kentucky     NaN           NaN   NaN\n",
      "17       Louisiana     NaN           NaN   NaN\n",
      "18           Maine     NaN           NaN   NaN\n",
      "19        Maryland     NaN           NaN   NaN\n",
      "20   Massachusetts     NaN           NaN   NaN\n",
      "21        Michigan     NaN           NaN   NaN\n",
      "22       Minnesota     NaN           NaN   NaN\n",
      "23     Mississippi     NaN           NaN   NaN\n",
      "24        Missouri     NaN           NaN   NaN\n",
      "25         Montana     NaN           NaN   NaN\n",
      "26        Nebraska     NaN           NaN   NaN\n",
      "27          Nevada     NaN           NaN   NaN\n",
      "28   New Hampshire     NaN           NaN   NaN\n",
      "29      New Jersey     NaN           NaN   NaN\n",
      "30      New Mexico     NaN           NaN   NaN\n",
      "31        New York     NaN           NaN   NaN\n",
      "32  North Carolina     NaN           NaN   NaN\n",
      "33    North Dakota     NaN           NaN   NaN\n",
      "34            Ohio     NaN           NaN   NaN\n",
      "35        Oklahoma     NaN           NaN   NaN\n",
      "36          Oregon     NaN           NaN   NaN\n",
      "37    Pennsylvania     NaN           NaN   NaN\n",
      "38    Rhode Island     NaN           NaN   NaN\n",
      "39  South Carolina     NaN           NaN   NaN\n",
      "40    South Dakota     NaN           NaN   NaN\n",
      "41       Tennessee     NaN           NaN   NaN\n",
      "42           Texas     NaN           NaN   NaN\n",
      "43            Utah     NaN           NaN   NaN\n",
      "44         Vermont     NaN           NaN   NaN\n",
      "45        Virginia     NaN           NaN   NaN\n",
      "46      Washington     NaN           NaN   NaN\n",
      "47   West Virginia     NaN           NaN   NaN\n",
      "48       Wisconsin     NaN           NaN   NaN\n",
      "49         Wyoming     NaN           NaN   NaN\n"
     ]
    }
   ],
   "source": [
    "rain_mode = sts.mode(rain_df)\n",
    "\n",
    "rain_df.mode()\n",
    "print(rain_mode)\n",
    "print(rain_df.mode())\n"
   ]
  },
  {
   "cell_type": "code",
   "execution_count": 15,
   "metadata": {},
   "outputs": [],
   "source": [
    "donors_df = pd.read_csv(\"assessment/donors2008.csv\")"
   ]
  },
  {
   "cell_type": "code",
   "execution_count": 16,
   "metadata": {},
   "outputs": [
    {
     "data": {
      "text/html": [
       "<div>\n",
       "<style scoped>\n",
       "    .dataframe tbody tr th:only-of-type {\n",
       "        vertical-align: middle;\n",
       "    }\n",
       "\n",
       "    .dataframe tbody tr th {\n",
       "        vertical-align: top;\n",
       "    }\n",
       "\n",
       "    .dataframe thead th {\n",
       "        text-align: right;\n",
       "    }\n",
       "</style>\n",
       "<table border=\"1\" class=\"dataframe\">\n",
       "  <thead>\n",
       "    <tr style=\"text-align: right;\">\n",
       "      <th></th>\n",
       "      <th>LastName</th>\n",
       "      <th>FirstName</th>\n",
       "      <th>Employer</th>\n",
       "      <th>City</th>\n",
       "      <th>State</th>\n",
       "      <th>Zip</th>\n",
       "      <th>Amount</th>\n",
       "      <th>FIELD8</th>\n",
       "    </tr>\n",
       "  </thead>\n",
       "  <tbody>\n",
       "    <tr>\n",
       "      <th>0</th>\n",
       "      <td>Aaron</td>\n",
       "      <td>Eugene</td>\n",
       "      <td>State Department</td>\n",
       "      <td>Dulles</td>\n",
       "      <td>VA</td>\n",
       "      <td>20189</td>\n",
       "      <td>500.0</td>\n",
       "      <td>NaN</td>\n",
       "    </tr>\n",
       "    <tr>\n",
       "      <th>1</th>\n",
       "      <td>Abadi</td>\n",
       "      <td>Barbara</td>\n",
       "      <td>Abadi &amp; Co.</td>\n",
       "      <td>New York</td>\n",
       "      <td>NY</td>\n",
       "      <td>10021</td>\n",
       "      <td>200.0</td>\n",
       "      <td>NaN</td>\n",
       "    </tr>\n",
       "    <tr>\n",
       "      <th>2</th>\n",
       "      <td>Adamany</td>\n",
       "      <td>Anthony</td>\n",
       "      <td>Retired</td>\n",
       "      <td>Rockford</td>\n",
       "      <td>IL</td>\n",
       "      <td>61103</td>\n",
       "      <td>500.0</td>\n",
       "      <td>NaN</td>\n",
       "    </tr>\n",
       "    <tr>\n",
       "      <th>3</th>\n",
       "      <td>Adams</td>\n",
       "      <td>Lorraine</td>\n",
       "      <td>Self</td>\n",
       "      <td>New York</td>\n",
       "      <td>NY</td>\n",
       "      <td>10026</td>\n",
       "      <td>200.0</td>\n",
       "      <td>NaN</td>\n",
       "    </tr>\n",
       "    <tr>\n",
       "      <th>4</th>\n",
       "      <td>Adams</td>\n",
       "      <td>Marion</td>\n",
       "      <td>None</td>\n",
       "      <td>Exeter</td>\n",
       "      <td>NH</td>\n",
       "      <td>03833</td>\n",
       "      <td>100.0</td>\n",
       "      <td>NaN</td>\n",
       "    </tr>\n",
       "    <tr>\n",
       "      <th>...</th>\n",
       "      <td>...</td>\n",
       "      <td>...</td>\n",
       "      <td>...</td>\n",
       "      <td>...</td>\n",
       "      <td>...</td>\n",
       "      <td>...</td>\n",
       "      <td>...</td>\n",
       "      <td>...</td>\n",
       "    </tr>\n",
       "    <tr>\n",
       "      <th>1771</th>\n",
       "      <td>Zinczenko</td>\n",
       "      <td>David</td>\n",
       "      <td>Rodale</td>\n",
       "      <td>Allentown</td>\n",
       "      <td>PA</td>\n",
       "      <td>18102</td>\n",
       "      <td>500.0</td>\n",
       "      <td>NaN</td>\n",
       "    </tr>\n",
       "    <tr>\n",
       "      <th>1772</th>\n",
       "      <td>Zschiesche</td>\n",
       "      <td>Peter</td>\n",
       "      <td>NaN</td>\n",
       "      <td>San Diego</td>\n",
       "      <td>CA</td>\n",
       "      <td>92104</td>\n",
       "      <td>250.0</td>\n",
       "      <td>NaN</td>\n",
       "    </tr>\n",
       "    <tr>\n",
       "      <th>1773</th>\n",
       "      <td>Zweidinger</td>\n",
       "      <td>Ruth</td>\n",
       "      <td>NaN</td>\n",
       "      <td>Hillsborough</td>\n",
       "      <td>NC</td>\n",
       "      <td>27278</td>\n",
       "      <td>250.0</td>\n",
       "      <td>NaN</td>\n",
       "    </tr>\n",
       "    <tr>\n",
       "      <th>1774</th>\n",
       "      <td>Zwerdling</td>\n",
       "      <td>David</td>\n",
       "      <td>Montg Cnty, Md</td>\n",
       "      <td>Silver Spring</td>\n",
       "      <td>MD</td>\n",
       "      <td>20910</td>\n",
       "      <td>35.0</td>\n",
       "      <td>NaN</td>\n",
       "    </tr>\n",
       "    <tr>\n",
       "      <th>1775</th>\n",
       "      <td>Zyskind</td>\n",
       "      <td>Jon</td>\n",
       "      <td>JDS Uniphase</td>\n",
       "      <td>Concord</td>\n",
       "      <td>MA</td>\n",
       "      <td>10742</td>\n",
       "      <td>25.0</td>\n",
       "      <td>NaN</td>\n",
       "    </tr>\n",
       "  </tbody>\n",
       "</table>\n",
       "<p>1776 rows × 8 columns</p>\n",
       "</div>"
      ],
      "text/plain": [
       "        LastName FirstName          Employer           City State    Zip  \\\n",
       "0          Aaron    Eugene  State Department         Dulles    VA  20189   \n",
       "1          Abadi   Barbara       Abadi & Co.       New York    NY  10021   \n",
       "2        Adamany   Anthony           Retired       Rockford    IL  61103   \n",
       "3          Adams  Lorraine              Self       New York    NY  10026   \n",
       "4          Adams    Marion              None         Exeter    NH  03833   \n",
       "...          ...       ...               ...            ...   ...    ...   \n",
       "1771   Zinczenko     David            Rodale      Allentown    PA  18102   \n",
       "1772  Zschiesche     Peter               NaN      San Diego    CA  92104   \n",
       "1773  Zweidinger      Ruth               NaN   Hillsborough    NC  27278   \n",
       "1774   Zwerdling     David    Montg Cnty, Md  Silver Spring    MD  20910   \n",
       "1775     Zyskind       Jon      JDS Uniphase        Concord    MA  10742   \n",
       "\n",
       "      Amount  FIELD8  \n",
       "0      500.0     NaN  \n",
       "1      200.0     NaN  \n",
       "2      500.0     NaN  \n",
       "3      200.0     NaN  \n",
       "4      100.0     NaN  \n",
       "...      ...     ...  \n",
       "1771   500.0     NaN  \n",
       "1772   250.0     NaN  \n",
       "1773   250.0     NaN  \n",
       "1774    35.0     NaN  \n",
       "1775    25.0     NaN  \n",
       "\n",
       "[1776 rows x 8 columns]"
      ]
     },
     "execution_count": 16,
     "metadata": {},
     "output_type": "execute_result"
    }
   ],
   "source": [
    "donors_df."
   ]
  },
  {
   "cell_type": "code",
   "execution_count": 25,
   "metadata": {},
   "outputs": [
    {
     "data": {
      "text/plain": [
       "Amount    9\n",
       "FIELD8    0\n",
       "dtype: int64"
      ]
     },
     "execution_count": 25,
     "metadata": {},
     "output_type": "execute_result"
    }
   ],
   "source": [
    "donors_state_df = donors_df.groupby([\"State\"]).mean()\n",
    "\n",
    "donors_state_df.loc[donors_state_df[\"Amount\"]>= 750].count()"
   ]
  },
  {
   "cell_type": "code",
   "execution_count": 32,
   "metadata": {},
   "outputs": [
    {
     "ename": "NameError",
     "evalue": "name 'name' is not defined",
     "output_type": "error",
     "traceback": [
      "\u001b[0;31m---------------------------------------------------------------------------\u001b[0m",
      "\u001b[0;31mNameError\u001b[0m                                 Traceback (most recent call last)",
      "\u001b[0;32m<ipython-input-32-fc4e8e0642ed>\u001b[0m in \u001b[0;36m<module>\u001b[0;34m\u001b[0m\n\u001b[0;32m----> 1\u001b[0;31m \u001b[0mprint\u001b[0m\u001b[0;34m(\u001b[0m\u001b[0;34m\"I think her name was + \"\u001b[0m \u001b[0;34m+\u001b[0m \u001b[0mname\u001b[0m \u001b[0;34m+\u001b[0m \u001b[0;34m\"?\"\u001b[0m\u001b[0;34m)\u001b[0m\u001b[0;34m\u001b[0m\u001b[0;34m\u001b[0m\u001b[0m\n\u001b[0m",
      "\u001b[0;31mNameError\u001b[0m: name 'name' is not defined"
     ]
    }
   ],
   "source": [
    "print(\"I think her name was + \" + name + \"?\")"
   ]
  },
  {
   "cell_type": "code",
   "execution_count": 33,
   "metadata": {},
   "outputs": [
    {
     "ename": "AttributeError",
     "evalue": "'tuple' object has no attribute 'append'",
     "output_type": "error",
     "traceback": [
      "\u001b[0;31m---------------------------------------------------------------------------\u001b[0m",
      "\u001b[0;31mAttributeError\u001b[0m                            Traceback (most recent call last)",
      "\u001b[0;32m<ipython-input-33-72be960c98fd>\u001b[0m in \u001b[0;36m<module>\u001b[0;34m\u001b[0m\n\u001b[1;32m      1\u001b[0m \u001b[0mstudents\u001b[0m \u001b[0;34m=\u001b[0m \u001b[0;34m(\u001b[0m\u001b[0;34m\"Frank\"\u001b[0m\u001b[0;34m,\u001b[0m \u001b[0;34m\"Mary\"\u001b[0m\u001b[0;34m,\u001b[0m \u001b[0;34m\"Jasmine\"\u001b[0m\u001b[0;34m,\u001b[0m \u001b[0;34m\"Ivana\"\u001b[0m\u001b[0;34m,\u001b[0m \u001b[0;34m\"Ahmed\"\u001b[0m\u001b[0;34m)\u001b[0m\u001b[0;34m\u001b[0m\u001b[0;34m\u001b[0m\u001b[0m\n\u001b[0;32m----> 2\u001b[0;31m \u001b[0mstudents\u001b[0m\u001b[0;34m.\u001b[0m\u001b[0mappend\u001b[0m\u001b[0;34m(\u001b[0m\u001b[0;34m\"Serena\"\u001b[0m\u001b[0;34m)\u001b[0m\u001b[0;34m\u001b[0m\u001b[0;34m\u001b[0m\u001b[0m\n\u001b[0m\u001b[1;32m      3\u001b[0m \u001b[0mprint\u001b[0m\u001b[0;34m(\u001b[0m\u001b[0mstudents\u001b[0m\u001b[0;34m)\u001b[0m\u001b[0;34m\u001b[0m\u001b[0;34m\u001b[0m\u001b[0m\n",
      "\u001b[0;31mAttributeError\u001b[0m: 'tuple' object has no attribute 'append'"
     ]
    }
   ],
   "source": [
    "students = (\"Frank\", \"Mary\", \"Jasmine\", \"Ivana\", \"Ahmed\")\n",
    "students.append(\"Serena\")\n",
    "print(students)"
   ]
  },
  {
   "cell_type": "code",
   "execution_count": 40,
   "metadata": {},
   "outputs": [
    {
     "data": {
      "text/plain": [
       "6"
      ]
     },
     "execution_count": 40,
     "metadata": {},
     "output_type": "execute_result"
    }
   ],
   "source": [
    "import requests\n",
    "url = \"https://api.spacexdata.com/v2/launchpads\"\n",
    "sx = requests.get(url)\n",
    "len(sx.json())\n"
   ]
  },
  {
   "cell_type": "code",
   "execution_count": 41,
   "metadata": {},
   "outputs": [],
   "source": [
    "donors_df = pd.read_csv(\"assessment/cereal.csv\")"
   ]
  },
  {
   "cell_type": "code",
   "execution_count": 45,
   "metadata": {},
   "outputs": [],
   "source": [
    "import os\n",
    "import csv\n",
    "import matplotlib as plt\n",
    "\n",
    "\n"
   ]
  },
  {
   "cell_type": "code",
   "execution_count": 44,
   "metadata": {},
   "outputs": [
    {
     "ename": "AttributeError",
     "evalue": "module 'matplotlib' has no attribute 'pie'",
     "output_type": "error",
     "traceback": [
      "\u001b[0;31m---------------------------------------------------------------------------\u001b[0m",
      "\u001b[0;31mAttributeError\u001b[0m                            Traceback (most recent call last)",
      "\u001b[0;32m<ipython-input-44-b3ec57368182>\u001b[0m in \u001b[0;36m<module>\u001b[0;34m\u001b[0m\n\u001b[1;32m      4\u001b[0m \u001b[0moffset\u001b[0m \u001b[0;34m=\u001b[0m \u001b[0;34m(\u001b[0m\u001b[0;36m0\u001b[0m\u001b[0;34m,\u001b[0m\u001b[0;36m0\u001b[0m\u001b[0;34m,\u001b[0m\u001b[0;36m0\u001b[0m\u001b[0;34m,\u001b[0m\u001b[0;36m0.2\u001b[0m\u001b[0;34m,\u001b[0m\u001b[0;36m0\u001b[0m\u001b[0;34m,\u001b[0m\u001b[0;36m0\u001b[0m\u001b[0;34m,\u001b[0m\u001b[0;36m0\u001b[0m\u001b[0;34m,\u001b[0m\u001b[0;36m0\u001b[0m\u001b[0;34m,\u001b[0m\u001b[0;36m0\u001b[0m\u001b[0;34m,\u001b[0m\u001b[0;36m0\u001b[0m\u001b[0;34m)\u001b[0m\u001b[0;34m\u001b[0m\u001b[0;34m\u001b[0m\u001b[0m\n\u001b[1;32m      5\u001b[0m \u001b[0;34m\u001b[0m\u001b[0m\n\u001b[0;32m----> 6\u001b[0;31m \u001b[0mplt\u001b[0m\u001b[0;34m.\u001b[0m\u001b[0mpie\u001b[0m\u001b[0;34m(\u001b[0m\u001b[0mpie_votes\u001b[0m\u001b[0;34m,\u001b[0m \u001b[0mexplode\u001b[0m \u001b[0;34m=\u001b[0m \u001b[0moffset\u001b[0m\u001b[0;34m,\u001b[0m \u001b[0mlabels\u001b[0m \u001b[0;34m=\u001b[0m \u001b[0mpies\u001b[0m\u001b[0;34m)\u001b[0m\u001b[0;34m\u001b[0m\u001b[0;34m\u001b[0m\u001b[0m\n\u001b[0m",
      "\u001b[0;31mAttributeError\u001b[0m: module 'matplotlib' has no attribute 'pie'"
     ]
    }
   ],
   "source": [
    "pies = [\"Apple\", \"Pumpkin\", \"Chocolate Creme\", \"Cherry\", \"Apple Crumb\", \"Pecan\", \"Lemon Meringue\", \"Blueberry\", \"Key Lime\", \"Peach\"]\n",
    "pie_votes = [47,37,32,27,25,24,24,21,18,16]\n",
    "colors = [\"yellow\",\"green\",\"lightblue\",\"orange\",\"red\",\"purple\",\"pink\",\"yellowgreen\",\"lightskyblue\",\"lightcoral\"]\n",
    "offset = (0,0,0,0.2,0,0,0,0,0,0)\n",
    "\n",
    "plt.pie(pie_votes, explode = offset, labels = pies)"
   ]
  },
  {
   "cell_type": "code",
   "execution_count": 47,
   "metadata": {},
   "outputs": [
    {
     "ename": "AttributeError",
     "evalue": "'list' object has no attribute 'sum'",
     "output_type": "error",
     "traceback": [
      "\u001b[0;31m---------------------------------------------------------------------------\u001b[0m",
      "\u001b[0;31mAttributeError\u001b[0m                            Traceback (most recent call last)",
      "\u001b[0;32m<ipython-input-47-c30712b16c54>\u001b[0m in \u001b[0;36m<module>\u001b[0;34m\u001b[0m\n\u001b[1;32m      1\u001b[0m \u001b[0mpie_votes\u001b[0m \u001b[0;34m=\u001b[0m \u001b[0;34m[\u001b[0m\u001b[0;36m47\u001b[0m\u001b[0;34m,\u001b[0m\u001b[0;36m37\u001b[0m\u001b[0;34m,\u001b[0m\u001b[0;36m32\u001b[0m\u001b[0;34m,\u001b[0m\u001b[0;36m27\u001b[0m\u001b[0;34m,\u001b[0m\u001b[0;36m25\u001b[0m\u001b[0;34m,\u001b[0m\u001b[0;36m24\u001b[0m\u001b[0;34m,\u001b[0m\u001b[0;36m24\u001b[0m\u001b[0;34m,\u001b[0m\u001b[0;36m21\u001b[0m\u001b[0;34m,\u001b[0m\u001b[0;36m18\u001b[0m\u001b[0;34m,\u001b[0m\u001b[0;36m16\u001b[0m\u001b[0;34m]\u001b[0m\u001b[0;34m\u001b[0m\u001b[0;34m\u001b[0m\u001b[0m\n\u001b[0;32m----> 2\u001b[0;31m \u001b[0mpie_votes\u001b[0m\u001b[0;34m.\u001b[0m\u001b[0msum\u001b[0m\u001b[0;34m(\u001b[0m\u001b[0;34m)\u001b[0m\u001b[0;34m\u001b[0m\u001b[0;34m\u001b[0m\u001b[0m\n\u001b[0m",
      "\u001b[0;31mAttributeError\u001b[0m: 'list' object has no attribute 'sum'"
     ]
    }
   ],
   "source": [
    "pie_votes = [47,37,32,27,25,24,24,21,18,16]\n",
    "pie_votes.sum()"
   ]
  },
  {
   "cell_type": "code",
   "execution_count": 49,
   "metadata": {},
   "outputs": [],
   "source": [
    "import json\n",
    "import os\n",
    "\n",
    "filepath = os.path.join(\"assessment\",\"youtube_response.json\")\n",
    "with open(filepath) as jsonfile:\n",
    "    video_json = json.load(jsonfile)\n",
    "    video_json"
   ]
  },
  {
   "cell_type": "code",
   "execution_count": null,
   "metadata": {},
   "outputs": [],
   "source": [
    "tick_locations = [value for value in ]\n",
    "plt.figure(figsize=(20,3))\n",
    "plt"
   ]
  }
 ],
 "metadata": {
  "kernelspec": {
   "display_name": "PythonData",
   "language": "python",
   "name": "pythondata"
  },
  "language_info": {
   "codemirror_mode": {
    "name": "ipython",
    "version": 3
   },
   "file_extension": ".py",
   "mimetype": "text/x-python",
   "name": "python",
   "nbconvert_exporter": "python",
   "pygments_lexer": "ipython3",
   "version": "3.8.5"
  }
 },
 "nbformat": 4,
 "nbformat_minor": 4
}
