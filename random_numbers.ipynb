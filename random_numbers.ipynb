{
 "cells": [
  {
   "cell_type": "code",
   "execution_count": 6,
   "metadata": {},
   "outputs": [
    {
     "data": {
      "text/plain": [
       "25.961437560714504"
      ]
     },
     "execution_count": 6,
     "metadata": {},
     "output_type": "execute_result"
    }
   ],
   "source": [
    "import random as rd\n",
    "\n",
    "random_number = rd.randint(-90,90)+ random.random()\n",
    "random_number"
   ]
  },
  {
   "cell_type": "code",
   "execution_count": 8,
   "metadata": {},
   "outputs": [],
   "source": [
    "x = 1\n",
    "latitudes =[]\n",
    "while x< 11:\n",
    "    rd_lat = random.randint(-90, 89) + random.random()\n",
    "    latitudes.append(rd_lat)\n",
    "    x+=1"
   ]
  },
  {
   "cell_type": "code",
   "execution_count": 9,
   "metadata": {},
   "outputs": [
    {
     "data": {
      "text/plain": [
       "[-86.03782856624424,\n",
       " 14.76917518182614,\n",
       " -72.88268561838905,\n",
       " 6.303824740195096,\n",
       " -62.20869997050492,\n",
       " 61.83232445436642,\n",
       " 50.45484182619586,\n",
       " -64.713779135601,\n",
       " -66.86489386451004,\n",
       " -66.08497857459383]"
      ]
     },
     "execution_count": 9,
     "metadata": {},
     "output_type": "execute_result"
    }
   ],
   "source": [
    "latitudes"
   ]
  },
  {
   "cell_type": "code",
   "execution_count": 10,
   "metadata": {},
   "outputs": [],
   "source": [
    "import numpy as np\n"
   ]
  },
  {
   "cell_type": "code",
   "execution_count": 13,
   "metadata": {},
   "outputs": [
    {
     "data": {
      "text/plain": [
       "array([-35.68729981, -49.22040791, -64.10193513,  12.21585114,\n",
       "        -1.08422422, -48.0868381 ,  23.69563156, -21.23670032,\n",
       "       -16.65776529,  -0.31755033, -30.37510383,  11.41176276,\n",
       "       -52.26996966,  24.60174109,  50.73369792,  -5.88663111,\n",
       "       -21.05389174, -58.44274551, -18.49366918, -35.1405183 ,\n",
       "       -77.45871038, -28.82221203, -67.84575275,  33.87940278,\n",
       "       -16.60567353, -62.42078774,  11.1393687 ,  80.52451536,\n",
       "        74.49748468,  64.06256683,  15.90763707, -79.73837529,\n",
       "        62.64996917,  57.52427312, -52.01438005, -30.52162756,\n",
       "        81.93365703, -50.64130196,   1.32471787, -23.99265417,\n",
       "       -79.14455276,  88.61315491, -40.87825559,  44.25097333,\n",
       "        86.87072949,  77.09111576, -79.83580728,   8.42880091,\n",
       "       -82.32757758,  -0.43435129])"
      ]
     },
     "execution_count": 13,
     "metadata": {},
     "output_type": "execute_result"
    }
   ],
   "source": [
    "np.random.uniform(-90.000, 90.000, size=50)"
   ]
  },
  {
   "cell_type": "code",
   "execution_count": 14,
   "metadata": {},
   "outputs": [
    {
     "name": "stdout",
     "output_type": "stream",
     "text": [
      "12.5 µs ± 11 ns per loop (mean ± std. dev. of 7 runs, 100000 loops each)\n"
     ]
    }
   ],
   "source": [
    "import timeit\n",
    "%timeit np.random.uniform(-90.000, 90.000, size=1500)"
   ]
  },
  {
   "cell_type": "code",
   "execution_count": 15,
   "metadata": {},
   "outputs": [
    {
     "name": "stdout",
     "output_type": "stream",
     "text": [
      "1.12 ms ± 1.86 µs per loop (mean ± std. dev. of 7 runs, 1000 loops each)\n"
     ]
    }
   ],
   "source": [
    "def latitudes(size):\n",
    "    latitudes = []\n",
    "    x = 0\n",
    "    while x < (size):\n",
    "        random_lat = random.randint(-90, 90) + random.random()\n",
    "        latitudes.append(random_lat)\n",
    "        x += 1\n",
    "    return latitudes\n",
    "# Call the function with 1500.\n",
    "%timeit latitudes(1500)"
   ]
  },
  {
   "cell_type": "code",
   "execution_count": null,
   "metadata": {},
   "outputs": [],
   "source": []
  }
 ],
 "metadata": {
  "kernelspec": {
   "display_name": "PythonData",
   "language": "python",
   "name": "pythondata"
  },
  "language_info": {
   "codemirror_mode": {
    "name": "ipython",
    "version": 3
   },
   "file_extension": ".py",
   "mimetype": "text/x-python",
   "name": "python",
   "nbconvert_exporter": "python",
   "pygments_lexer": "ipython3",
   "version": "3.8.5"
  }
 },
 "nbformat": 4,
 "nbformat_minor": 4
}
